{
 "cells": [
  {
   "cell_type": "code",
   "execution_count": 1,
   "metadata": {},
   "outputs": [],
   "source": [
    "import numpy as np\n",
    "from scipy.optimize import curve_fit\n",
    "import matplotlib.pyplot as plt\n",
    "\n",
    "# Provided data\n",
    "J_values = np.array([3, 5, 7, 9, 11])\n",
    "frequencies = np.array([345795.9899, 576267.9305, 806651.806, 1036912.393, 1267014.486])"
   ]
  },
  {
   "cell_type": "code",
   "execution_count": 2,
   "metadata": {},
   "outputs": [],
   "source": [
    "# Define the model function for the transition frequency\n",
    "def transition_frequency(J, B, D):\n",
    "    return 2 * B * J - 4 * D * J**3\n",
    "\n",
    "# Fit the model to the data\n",
    "params, covariance = curve_fit(transition_frequency, J_values, frequencies)"
   ]
  },
  {
   "cell_type": "code",
   "execution_count": 4,
   "metadata": {},
   "outputs": [],
   "source": [
    "# Extract fitted parameters\n",
    "B, D = params"
   ]
  },
  {
   "cell_type": "code",
   "execution_count": null,
   "metadata": {},
   "outputs": [],
   "source": []
  },
  {
   "cell_type": "code",
   "execution_count": null,
   "metadata": {},
   "outputs": [],
   "source": [
    "# Generate fitted frequencies for plotting\n",
    "fitted_frequencies = transition_frequency(J_values, B, D)\n",
    "\n",
    "# Plot the data and the fit\n",
    "plt.scatter(J_values, frequencies, label=\"Measured Frequencies\", color=\"blue\")\n",
    "plt.plot(J_values, fitted_frequencies, label=f\"Fitted Model\\nB = {B:.4f} MHz, D = {D:.4f} MHz\", color=\"red\")\n",
    "plt.xlabel(\"J (Rotational Quantum Number)\")\n",
    "plt.ylabel(\"Frequency (MHz)\")\n",
    "plt.title(\"Fit of Transition Frequency Data for CO Molecule\")\n",
    "plt.legend()\n",
    "plt.grid(True)\n",
    "plt.show()\n",
    "\n",
    "B, D"
   ]
  }
 ],
 "metadata": {
  "kernelspec": {
   "display_name": "venv",
   "language": "python",
   "name": "python3"
  },
  "language_info": {
   "codemirror_mode": {
    "name": "ipython",
    "version": 3
   },
   "file_extension": ".py",
   "mimetype": "text/x-python",
   "name": "python",
   "nbconvert_exporter": "python",
   "pygments_lexer": "ipython3",
   "version": "3.12.6"
  }
 },
 "nbformat": 4,
 "nbformat_minor": 2
}
